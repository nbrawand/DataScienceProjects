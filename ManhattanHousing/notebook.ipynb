{
 "cells": [
  {
   "cell_type": "markdown",
   "metadata": {},
   "source": [
    "# Manhattan Housing"
   ]
  },
  {
   "cell_type": "code",
   "execution_count": 1,
   "metadata": {
    "collapsed": true
   },
   "outputs": [],
   "source": [
    "%matplotlib inline\n",
    "import pandas as pd\n",
    "import numpy as np\n",
    "import matplotlib.pyplot as plt\n",
    "from sklearn import linear_model as lm"
   ]
  },
  {
   "cell_type": "markdown",
   "metadata": {},
   "source": [
    "Let's make some cool tools to help us look a this data!"
   ]
  },
  {
   "cell_type": "code",
   "execution_count": 139,
   "metadata": {
    "collapsed": false
   },
   "outputs": [],
   "source": [
    "def getTrainTest(dataFrame, frac):\n",
    "    \"\"\"Given:\n",
    "            data as a dataframe dataFrame\n",
    "            fraction of training data from data frac\n",
    "            \n",
    "        Requirements:\n",
    "            pandas\n",
    "            numpy\n",
    "            \n",
    "    Return a list of train and test dataFrames from dataFrame where frac is the fraction of data used \n",
    "    for the training dataframe.\n",
    "    \n",
    "    requires: numpy and pandas\"\"\"\n",
    "    \n",
    "    msk = np.random.rand(len(dataFrame)) < frac\n",
    "    train = dataFrame[msk]\n",
    "    test = dataFrame[~msk]\n",
    "    return [train,test]\n",
    "\n",
    "def DoRegression(xDat, yDat, printAssumptions=True, xDim=0):\n",
    "    \"\"\"\n",
    "    Given:\n",
    "        predictor as pandas dataframe or list of dataframes xDat\n",
    "        target value as a pandas dataframe yDat\n",
    "        xDim dimension to plot if multi predictors (not working/tested yet)\n",
    "        \n",
    "    Requirements:\n",
    "        pandas\n",
    "        sklean linear_model\n",
    "        numpy \n",
    "        matplotlib.pyplot\n",
    "        \n",
    "    creates a regression object, trains it and\n",
    "    returns the object, a report as a string and a plot of the fit.\n",
    "        \n",
    "    if printAssumptions true then print the assumptions to check for linear regression.\"\"\"\n",
    "    \n",
    "        \n",
    "    # check if multi or single\n",
    "    if len(xDat.columns) > 1:\n",
    "        multiReg = True\n",
    "    else:\n",
    "        multiReg = False\n",
    "      \n",
    "    # setup x array\n",
    "    if multiReg:\n",
    "        X = xDat.values\n",
    "    else:\n",
    "        X = xDat.values.reshape(-1,1)\n",
    "        \n",
    "    Y = yDat.values.reshape(-1,1)\n",
    "    \n",
    "    # create regression obj\n",
    "    lrObj = lm.LinearRegression()\n",
    "        \n",
    "    # train obj\n",
    "    lrObj.fit(X, Y)\n",
    "        \n",
    "    # get report and plot\n",
    "    report, plot = getRegReport(lrObj, X, Y, xDim=xDim, multiReg=multiReg)\n",
    "    \n",
    "    # add assumptions to report string\n",
    "    assumps = \"\"\"\n",
    "    \n",
    "Check these assumptions:\n",
    "                        \n",
    "Single and multivariable:\n",
    "    Linear relationship\n",
    "    Multivariate normality or parametric errors check with Kolmogorov-Smirnof test or hist plot\n",
    "    No auto-correlation a.k.a history matters like stock prices check with Durbin-Watson's d tests null hypothesis that residuals are not linearly auto-correlated\n",
    "    Homoscedasticity or STD of errors is the same for entire x range\n",
    "    Rule of thumb: N about >20\n",
    "\n",
    "Only for Multivariable:\n",
    "    Little multicollinearity or independent predictors check with correlation matrix of predictors\n",
    "    \n",
    "\"\"\"\n",
    "    \n",
    "    if(printAssumptions):\n",
    "        report += assumps\n",
    "\n",
    "    return [report, plot,lrObj]\n",
    "\n",
    "def DoRegression1D(xDat, yDat, printAssumptions=True):\n",
    "    \"\"\"\n",
    "        Given:\n",
    "            predictor as pandas dataframe xDat (must be 1D)\n",
    "            target value as a pandas dataframe yDat\n",
    "            dimension of x to plot\n",
    "        \n",
    "        Requirements:\n",
    "            pandas\n",
    "            sklean linear_model\n",
    "            numpy \n",
    "            matplotlib.pyplot\n",
    "        \n",
    "        creates a regression object, trains it and\n",
    "        returns the object, a report as a string and a plot of the fit.\n",
    "        \n",
    "        if printAssumptions true then print the assumptions to check for linear regression.\"\"\"\n",
    "    \n",
    "    X = xDat.values.reshape(-1,1)\n",
    "    Y = yDat.values.reshape(-1,1)\n",
    "    \n",
    "    # create regression obj\n",
    "    lrObj = lm.LinearRegression()\n",
    "        \n",
    "    # train obj\n",
    "    lrObj.fit(X, Y)\n",
    "        \n",
    "    # get report and plot\n",
    "    report, plot = getRegReport(lrObj, X,Y, xDim=0, multiReg=False)\n",
    "    \n",
    "    # add assumptions to report string\n",
    "    assumps = \"\"\"\n",
    "    \n",
    "Check these assumptions:\n",
    "                        \n",
    "Single and multivariable:\n",
    "    Linear relationship\n",
    "    Multivariate normality or parametric errors check with Kolmogorov-Smirnof test or hist plot\n",
    "    No auto-correlation a.k.a history matters like stock prices check with Durbin-Watson's d tests null hypothesis that residuals are not linearly auto-correlated\n",
    "    Homoscedasticity or STD of errors is the same for entire x range\n",
    "    Rule of thumb: N about >20\n",
    "\n",
    "Only for Multivariable:\n",
    "    Little multicollinearity or independent predictors check with correlation matrix of predictors\n",
    "    \n",
    "\"\"\"\n",
    "    \n",
    "    if(printAssumptions):\n",
    "        report += assumps\n",
    "\n",
    "    return [report, plot,lrObj]\n",
    "\n",
    "\n",
    "def getRegReport(lrObj, xvals, yvals, xDim=0, multiReg=False):\n",
    "    \"\"\"Given: \n",
    "            lr object lrObje,\n",
    "            yvalues yvals\n",
    "            predictors xvals\n",
    "            if multiReg which dimension of x to plot xDim (not working/tested right now)\n",
    "        \n",
    "        Requirements:\n",
    "            pandas\n",
    "            sklearn linear_model\n",
    "            numpy\n",
    "            matplotlib.pyplot\n",
    "        \n",
    "        return a report as a string and a pyplot\"\"\"\n",
    "    \n",
    "    report = \"\"\n",
    "    \n",
    "    # coefficients\n",
    "    for cof in lrObj.coef_:\n",
    "        coef = \"{} \".format(cof)\n",
    "    report += \"\\nCoefficients : \"+coef\n",
    "    \n",
    "    # mean squared error\n",
    "    mse = np.mean((lrObj.predict(xvals)-yvals)**2)\n",
    "    report += \"\\nMean Squared Error : {}\".format(mse)\n",
    "\n",
    "    # score - coefficient of determination R^2 of the prediction\n",
    "    score = lrObj.score(xvals, yvals)\n",
    "    report += \"\\nScore : {}\".format(score)\n",
    "        \n",
    "    # create plot\n",
    "    plt.figure()\n",
    "    \n",
    "    if not multiReg:\n",
    "        plt.scatter(xvals, yvals, color='black')\n",
    "        plt.plot(xvals, lrObj.predict(xvals), color='blue', linewidth=3)\n",
    "        \n",
    "    # multi var plot not working/tested\n",
    "    #else:\n",
    "    #    plt.scatter(xvals[:,xDim], yvals, color='black')\n",
    "    #    plt.plot(xvals[:,xDim], lrObj.predict(xvals), color='blue', linewidth=3)\n",
    "    \n",
    "    return [report, plt]  "
   ]
  },
  {
   "cell_type": "markdown",
   "metadata": {},
   "source": [
    "# Exploratory Data Analysis\n",
    "\n",
    "Lets import the data and look at what information we have. Doing some exploratory data analysis (EDA)"
   ]
  },
  {
   "cell_type": "code",
   "execution_count": 3,
   "metadata": {
    "collapsed": false
   },
   "outputs": [
    {
     "data": {
      "text/html": [
       "<div>\n",
       "<table border=\"1\" class=\"dataframe\">\n",
       "  <thead>\n",
       "    <tr style=\"text-align: right;\">\n",
       "      <th></th>\n",
       "      <th>BOROUGH</th>\n",
       "      <th>NEIGHBORHOOD</th>\n",
       "      <th>BUILDING CLASS CATEGORY</th>\n",
       "      <th>TAX CLASS AT PRESENT</th>\n",
       "      <th>BLOCK</th>\n",
       "      <th>LOT</th>\n",
       "      <th>EASE-MENT</th>\n",
       "      <th>BUILDING CLASS AT PRESENT</th>\n",
       "      <th>ADDRESS</th>\n",
       "      <th>APART\n",
       "MENT\n",
       "NUMBER</th>\n",
       "      <th>...</th>\n",
       "      <th>RESIDENTIAL UNITS</th>\n",
       "      <th>COMMERCIAL UNITS</th>\n",
       "      <th>TOTAL UNITS</th>\n",
       "      <th>LAND SQUARE FEET</th>\n",
       "      <th>GROSS SQUARE FEET</th>\n",
       "      <th>YEAR BUILT</th>\n",
       "      <th>TAX CLASS AT TIME OF SALE</th>\n",
       "      <th>BUILDING CLASS AT TIME OF SALE</th>\n",
       "      <th>SALE\n",
       "PRICE</th>\n",
       "      <th>SALE DATE</th>\n",
       "    </tr>\n",
       "  </thead>\n",
       "  <tbody>\n",
       "    <tr>\n",
       "      <th>0</th>\n",
       "      <td>1</td>\n",
       "      <td></td>\n",
       "      <td>13  CONDOS - ELEVATOR APARTMENTS</td>\n",
       "      <td></td>\n",
       "      <td>738</td>\n",
       "      <td>1306</td>\n",
       "      <td></td>\n",
       "      <td></td>\n",
       "      <td>345 WEST 14TH   STREET</td>\n",
       "      <td></td>\n",
       "      <td>...</td>\n",
       "      <td>0</td>\n",
       "      <td>0</td>\n",
       "      <td>0</td>\n",
       "      <td>0</td>\n",
       "      <td>0</td>\n",
       "      <td>0</td>\n",
       "      <td>2</td>\n",
       "      <td>R4</td>\n",
       "      <td>2214693</td>\n",
       "      <td>2013-05-20</td>\n",
       "    </tr>\n",
       "    <tr>\n",
       "      <th>1</th>\n",
       "      <td>1</td>\n",
       "      <td></td>\n",
       "      <td>13  CONDOS - ELEVATOR APARTMENTS</td>\n",
       "      <td></td>\n",
       "      <td>738</td>\n",
       "      <td>1307</td>\n",
       "      <td></td>\n",
       "      <td></td>\n",
       "      <td>345 WEST 14TH   STREET</td>\n",
       "      <td></td>\n",
       "      <td>...</td>\n",
       "      <td>0</td>\n",
       "      <td>0</td>\n",
       "      <td>0</td>\n",
       "      <td>0</td>\n",
       "      <td>0</td>\n",
       "      <td>0</td>\n",
       "      <td>2</td>\n",
       "      <td>R4</td>\n",
       "      <td>1654656</td>\n",
       "      <td>2013-05-16</td>\n",
       "    </tr>\n",
       "    <tr>\n",
       "      <th>2</th>\n",
       "      <td>1</td>\n",
       "      <td></td>\n",
       "      <td>13  CONDOS - ELEVATOR APARTMENTS</td>\n",
       "      <td></td>\n",
       "      <td>738</td>\n",
       "      <td>1308</td>\n",
       "      <td></td>\n",
       "      <td></td>\n",
       "      <td>345 WEST 14TH   STREET</td>\n",
       "      <td></td>\n",
       "      <td>...</td>\n",
       "      <td>0</td>\n",
       "      <td>0</td>\n",
       "      <td>0</td>\n",
       "      <td>0</td>\n",
       "      <td>0</td>\n",
       "      <td>0</td>\n",
       "      <td>2</td>\n",
       "      <td>R4</td>\n",
       "      <td>1069162</td>\n",
       "      <td>2013-05-23</td>\n",
       "    </tr>\n",
       "    <tr>\n",
       "      <th>3</th>\n",
       "      <td>1</td>\n",
       "      <td></td>\n",
       "      <td>13  CONDOS - ELEVATOR APARTMENTS</td>\n",
       "      <td></td>\n",
       "      <td>738</td>\n",
       "      <td>1309</td>\n",
       "      <td></td>\n",
       "      <td></td>\n",
       "      <td>345 WEST 14TH   STREET</td>\n",
       "      <td></td>\n",
       "      <td>...</td>\n",
       "      <td>0</td>\n",
       "      <td>0</td>\n",
       "      <td>0</td>\n",
       "      <td>0</td>\n",
       "      <td>0</td>\n",
       "      <td>0</td>\n",
       "      <td>2</td>\n",
       "      <td>R4</td>\n",
       "      <td>1374637</td>\n",
       "      <td>2013-05-15</td>\n",
       "    </tr>\n",
       "    <tr>\n",
       "      <th>4</th>\n",
       "      <td>1</td>\n",
       "      <td></td>\n",
       "      <td>13  CONDOS - ELEVATOR APARTMENTS</td>\n",
       "      <td></td>\n",
       "      <td>738</td>\n",
       "      <td>1310</td>\n",
       "      <td></td>\n",
       "      <td></td>\n",
       "      <td>345 WEST 14TH   STREET</td>\n",
       "      <td></td>\n",
       "      <td>...</td>\n",
       "      <td>0</td>\n",
       "      <td>0</td>\n",
       "      <td>0</td>\n",
       "      <td>0</td>\n",
       "      <td>0</td>\n",
       "      <td>0</td>\n",
       "      <td>2</td>\n",
       "      <td>R4</td>\n",
       "      <td>1649565</td>\n",
       "      <td>2013-05-13</td>\n",
       "    </tr>\n",
       "  </tbody>\n",
       "</table>\n",
       "<p>5 rows × 21 columns</p>\n",
       "</div>"
      ],
      "text/plain": [
       "   BOROUGH               NEIGHBORHOOD  \\\n",
       "0        1                              \n",
       "1        1                              \n",
       "2        1                              \n",
       "3        1                              \n",
       "4        1                              \n",
       "\n",
       "                        BUILDING CLASS CATEGORY TAX CLASS AT PRESENT  BLOCK  \\\n",
       "0  13  CONDOS - ELEVATOR APARTMENTS                                     738   \n",
       "1  13  CONDOS - ELEVATOR APARTMENTS                                     738   \n",
       "2  13  CONDOS - ELEVATOR APARTMENTS                                     738   \n",
       "3  13  CONDOS - ELEVATOR APARTMENTS                                     738   \n",
       "4  13  CONDOS - ELEVATOR APARTMENTS                                     738   \n",
       "\n",
       "    LOT EASE-MENT BUILDING CLASS AT PRESENT  \\\n",
       "0  1306                                       \n",
       "1  1307                                       \n",
       "2  1308                                       \n",
       "3  1309                                       \n",
       "4  1310                                       \n",
       "\n",
       "                                     ADDRESS APART\\nMENT\\nNUMBER    ...      \\\n",
       "0  345 WEST 14TH   STREET                                           ...       \n",
       "1  345 WEST 14TH   STREET                                           ...       \n",
       "2  345 WEST 14TH   STREET                                           ...       \n",
       "3  345 WEST 14TH   STREET                                           ...       \n",
       "4  345 WEST 14TH   STREET                                           ...       \n",
       "\n",
       "   RESIDENTIAL UNITS  COMMERCIAL UNITS  TOTAL UNITS  LAND SQUARE FEET  \\\n",
       "0                  0                 0            0                 0   \n",
       "1                  0                 0            0                 0   \n",
       "2                  0                 0            0                 0   \n",
       "3                  0                 0            0                 0   \n",
       "4                  0                 0            0                 0   \n",
       "\n",
       "   GROSS SQUARE FEET  YEAR BUILT  TAX CLASS AT TIME OF SALE  \\\n",
       "0                  0           0                          2   \n",
       "1                  0           0                          2   \n",
       "2                  0           0                          2   \n",
       "3                  0           0                          2   \n",
       "4                  0           0                          2   \n",
       "\n",
       "   BUILDING CLASS AT TIME OF SALE SALE\\nPRICE  SALE DATE  \n",
       "0                              R4     2214693 2013-05-20  \n",
       "1                              R4     1654656 2013-05-16  \n",
       "2                              R4     1069162 2013-05-23  \n",
       "3                              R4     1374637 2013-05-15  \n",
       "4                              R4     1649565 2013-05-13  \n",
       "\n",
       "[5 rows x 21 columns]"
      ]
     },
     "execution_count": 3,
     "metadata": {},
     "output_type": "execute_result"
    }
   ],
   "source": [
    "datFil = \"rollingsales_manhattan.xls\"\n",
    "rawData = pd.read_excel(datFil, skiprows=4)\n",
    "rawData.head()"
   ]
  },
  {
   "cell_type": "code",
   "execution_count": 4,
   "metadata": {
    "collapsed": false
   },
   "outputs": [
    {
     "data": {
      "text/plain": [
       "BOROUGH                                    int64\n",
       "NEIGHBORHOOD                              object\n",
       "BUILDING CLASS CATEGORY                   object\n",
       "TAX CLASS AT PRESENT                      object\n",
       "BLOCK                                      int64\n",
       "LOT                                        int64\n",
       "EASE-MENT                                 object\n",
       "BUILDING CLASS AT PRESENT                 object\n",
       "ADDRESS                                   object\n",
       "APART\\nMENT\\nNUMBER                       object\n",
       "ZIP CODE                                   int64\n",
       "RESIDENTIAL UNITS                          int64\n",
       "COMMERCIAL UNITS                           int64\n",
       "TOTAL UNITS                                int64\n",
       "LAND SQUARE FEET                           int64\n",
       "GROSS SQUARE FEET                          int64\n",
       "YEAR BUILT                                 int64\n",
       "TAX CLASS AT TIME OF SALE                  int64\n",
       "BUILDING CLASS AT TIME OF SALE            object\n",
       "SALE\\nPRICE                                int64\n",
       "SALE DATE                         datetime64[ns]\n",
       "dtype: object"
      ]
     },
     "execution_count": 4,
     "metadata": {},
     "output_type": "execute_result"
    }
   ],
   "source": [
    "rawData.dtypes"
   ]
  },
  {
   "cell_type": "code",
   "execution_count": 5,
   "metadata": {
    "collapsed": false
   },
   "outputs": [
    {
     "data": {
      "text/html": [
       "<div>\n",
       "<table border=\"1\" class=\"dataframe\">\n",
       "  <thead>\n",
       "    <tr style=\"text-align: right;\">\n",
       "      <th></th>\n",
       "      <th>BOROUGH</th>\n",
       "      <th>BLOCK</th>\n",
       "      <th>LOT</th>\n",
       "      <th>ZIP CODE</th>\n",
       "      <th>RESIDENTIAL UNITS</th>\n",
       "      <th>COMMERCIAL UNITS</th>\n",
       "      <th>TOTAL UNITS</th>\n",
       "      <th>LAND SQUARE FEET</th>\n",
       "      <th>GROSS SQUARE FEET</th>\n",
       "      <th>YEAR BUILT</th>\n",
       "      <th>TAX CLASS AT TIME OF SALE</th>\n",
       "      <th>SALE\n",
       "PRICE</th>\n",
       "    </tr>\n",
       "  </thead>\n",
       "  <tbody>\n",
       "    <tr>\n",
       "      <th>count</th>\n",
       "      <td>27395.0</td>\n",
       "      <td>27395.000000</td>\n",
       "      <td>27395.000000</td>\n",
       "      <td>27395.000000</td>\n",
       "      <td>27395.000000</td>\n",
       "      <td>27395.000000</td>\n",
       "      <td>27395.000000</td>\n",
       "      <td>27395.000000</td>\n",
       "      <td>2.739500e+04</td>\n",
       "      <td>27395.000000</td>\n",
       "      <td>27395.000000</td>\n",
       "      <td>2.739500e+04</td>\n",
       "    </tr>\n",
       "    <tr>\n",
       "      <th>mean</th>\n",
       "      <td>1.0</td>\n",
       "      <td>1109.666728</td>\n",
       "      <td>741.789086</td>\n",
       "      <td>10028.860120</td>\n",
       "      <td>1.766417</td>\n",
       "      <td>0.374995</td>\n",
       "      <td>2.289432</td>\n",
       "      <td>965.715240</td>\n",
       "      <td>9.572026e+03</td>\n",
       "      <td>1493.880270</td>\n",
       "      <td>2.488118</td>\n",
       "      <td>1.848001e+06</td>\n",
       "    </tr>\n",
       "    <tr>\n",
       "      <th>std</th>\n",
       "      <td>0.0</td>\n",
       "      <td>465.994469</td>\n",
       "      <td>819.422424</td>\n",
       "      <td>69.959378</td>\n",
       "      <td>14.910835</td>\n",
       "      <td>4.599586</td>\n",
       "      <td>15.747772</td>\n",
       "      <td>3865.774395</td>\n",
       "      <td>3.908281e+04</td>\n",
       "      <td>828.916146</td>\n",
       "      <td>0.891723</td>\n",
       "      <td>1.633228e+07</td>\n",
       "    </tr>\n",
       "    <tr>\n",
       "      <th>min</th>\n",
       "      <td>1.0</td>\n",
       "      <td>7.000000</td>\n",
       "      <td>1.000000</td>\n",
       "      <td>0.000000</td>\n",
       "      <td>0.000000</td>\n",
       "      <td>0.000000</td>\n",
       "      <td>0.000000</td>\n",
       "      <td>0.000000</td>\n",
       "      <td>0.000000e+00</td>\n",
       "      <td>0.000000</td>\n",
       "      <td>1.000000</td>\n",
       "      <td>0.000000e+00</td>\n",
       "    </tr>\n",
       "    <tr>\n",
       "      <th>25%</th>\n",
       "      <td>1.0</td>\n",
       "      <td>877.000000</td>\n",
       "      <td>37.000000</td>\n",
       "      <td>10016.000000</td>\n",
       "      <td>0.000000</td>\n",
       "      <td>0.000000</td>\n",
       "      <td>0.000000</td>\n",
       "      <td>0.000000</td>\n",
       "      <td>0.000000e+00</td>\n",
       "      <td>1900.000000</td>\n",
       "      <td>2.000000</td>\n",
       "      <td>0.000000e+00</td>\n",
       "    </tr>\n",
       "    <tr>\n",
       "      <th>50%</th>\n",
       "      <td>1.0</td>\n",
       "      <td>1047.000000</td>\n",
       "      <td>1007.000000</td>\n",
       "      <td>10019.000000</td>\n",
       "      <td>0.000000</td>\n",
       "      <td>0.000000</td>\n",
       "      <td>1.000000</td>\n",
       "      <td>0.000000</td>\n",
       "      <td>0.000000e+00</td>\n",
       "      <td>1928.000000</td>\n",
       "      <td>2.000000</td>\n",
       "      <td>4.500000e+05</td>\n",
       "    </tr>\n",
       "    <tr>\n",
       "      <th>75%</th>\n",
       "      <td>1.0</td>\n",
       "      <td>1411.000000</td>\n",
       "      <td>1233.000000</td>\n",
       "      <td>10027.000000</td>\n",
       "      <td>1.000000</td>\n",
       "      <td>0.000000</td>\n",
       "      <td>1.000000</td>\n",
       "      <td>0.000000</td>\n",
       "      <td>0.000000e+00</td>\n",
       "      <td>1973.000000</td>\n",
       "      <td>4.000000</td>\n",
       "      <td>1.150000e+06</td>\n",
       "    </tr>\n",
       "    <tr>\n",
       "      <th>max</th>\n",
       "      <td>1.0</td>\n",
       "      <td>2250.000000</td>\n",
       "      <td>9117.000000</td>\n",
       "      <td>10463.000000</td>\n",
       "      <td>1328.000000</td>\n",
       "      <td>604.000000</td>\n",
       "      <td>1349.000000</td>\n",
       "      <td>213650.000000</td>\n",
       "      <td>1.970736e+06</td>\n",
       "      <td>2013.000000</td>\n",
       "      <td>4.000000</td>\n",
       "      <td>1.307965e+09</td>\n",
       "    </tr>\n",
       "  </tbody>\n",
       "</table>\n",
       "</div>"
      ],
      "text/plain": [
       "       BOROUGH         BLOCK           LOT      ZIP CODE  RESIDENTIAL UNITS  \\\n",
       "count  27395.0  27395.000000  27395.000000  27395.000000       27395.000000   \n",
       "mean       1.0   1109.666728    741.789086  10028.860120           1.766417   \n",
       "std        0.0    465.994469    819.422424     69.959378          14.910835   \n",
       "min        1.0      7.000000      1.000000      0.000000           0.000000   \n",
       "25%        1.0    877.000000     37.000000  10016.000000           0.000000   \n",
       "50%        1.0   1047.000000   1007.000000  10019.000000           0.000000   \n",
       "75%        1.0   1411.000000   1233.000000  10027.000000           1.000000   \n",
       "max        1.0   2250.000000   9117.000000  10463.000000        1328.000000   \n",
       "\n",
       "       COMMERCIAL UNITS   TOTAL UNITS  LAND SQUARE FEET  GROSS SQUARE FEET  \\\n",
       "count      27395.000000  27395.000000      27395.000000       2.739500e+04   \n",
       "mean           0.374995      2.289432        965.715240       9.572026e+03   \n",
       "std            4.599586     15.747772       3865.774395       3.908281e+04   \n",
       "min            0.000000      0.000000          0.000000       0.000000e+00   \n",
       "25%            0.000000      0.000000          0.000000       0.000000e+00   \n",
       "50%            0.000000      1.000000          0.000000       0.000000e+00   \n",
       "75%            0.000000      1.000000          0.000000       0.000000e+00   \n",
       "max          604.000000   1349.000000     213650.000000       1.970736e+06   \n",
       "\n",
       "         YEAR BUILT  TAX CLASS AT TIME OF SALE   SALE\\nPRICE  \n",
       "count  27395.000000               27395.000000  2.739500e+04  \n",
       "mean    1493.880270                   2.488118  1.848001e+06  \n",
       "std      828.916146                   0.891723  1.633228e+07  \n",
       "min        0.000000                   1.000000  0.000000e+00  \n",
       "25%     1900.000000                   2.000000  0.000000e+00  \n",
       "50%     1928.000000                   2.000000  4.500000e+05  \n",
       "75%     1973.000000                   4.000000  1.150000e+06  \n",
       "max     2013.000000                   4.000000  1.307965e+09  "
      ]
     },
     "execution_count": 5,
     "metadata": {},
     "output_type": "execute_result"
    }
   ],
   "source": [
    "rawData.describe()"
   ]
  },
  {
   "cell_type": "markdown",
   "metadata": {},
   "source": [
    "# Clean Data\n",
    "\n",
    "We are interested in the sale price let's come up with some predictors. Our first guess is gross square feet should be a good predictor. "
   ]
  },
  {
   "cell_type": "code",
   "execution_count": 6,
   "metadata": {
    "collapsed": false
   },
   "outputs": [],
   "source": [
    "# clean the data\n",
    "conditions = (rawData['GROSS SQUARE FEET']>0) & (rawData['SALE\\nPRICE']>0) & (rawData['LAND SQUARE FEET']>0)\n",
    "cleanDat = rawData[conditions]"
   ]
  },
  {
   "cell_type": "code",
   "execution_count": 7,
   "metadata": {
    "collapsed": false
   },
   "outputs": [
    {
     "data": {
      "text/plain": [
       "<matplotlib.axes._subplots.AxesSubplot at 0x7fb986503550>"
      ]
     },
     "execution_count": 7,
     "metadata": {},
     "output_type": "execute_result"
    },
    {
     "data": {
      "image/png": "[encoded data removed]",
      "text/plain": [
       "<matplotlib.figure.Figure at 0x7fb9865296d8>"
      ]
     },
     "metadata": {},
     "output_type": "display_data"
    },
    {
     "data": {
      "image/png": "[encoded data removed]",
      "text/plain": [
       "<matplotlib.figure.Figure at 0x7fb9865297b8>"
      ]
     },
     "metadata": {},
     "output_type": "display_data"
    }
   ],
   "source": [
    "cleanDat.plot(x='GROSS SQUARE FEET',y='SALE\\nPRICE',kind='Scatter')\n",
    "cleanDat.plot(x='GROSS SQUARE FEET',y='SALE\\nPRICE',kind='Scatter',logy=True,logx=True)"
   ]
  },
  {
   "cell_type": "markdown",
   "metadata": {},
   "source": [
    "Here we have removed all the data that is missing sale price, gross square feet, and land square feet. Let's keep playing with the data and modeling it. \n",
    "\n",
    "We need to define our training and test sets first."
   ]
  },
  {
   "cell_type": "markdown",
   "metadata": {},
   "source": [
    "# Model Sale Price"
   ]
  },
  {
   "cell_type": "code",
   "execution_count": 8,
   "metadata": {
    "collapsed": true
   },
   "outputs": [],
   "source": [
    "# split data into training and test set\n",
    "trainTestFrac = 0.8\n",
    "trainDat, testDat = getTrainTest(cleanDat, trainTestFrac)"
   ]
  },
  {
   "cell_type": "code",
   "execution_count": 10,
   "metadata": {
    "collapsed": false
   },
   "outputs": [
    {
     "name": "stdout",
     "output_type": "stream",
     "text": [
      "\n",
      "Coefficients : 265.86729777404315 \n",
      "Mean Squared Error : 1280979436149470.8\n",
      "Score : 0.21826313033954794\n"
     ]
    },
    {
     "data": {
      "image/png": "[encoded data removed]",
      "text/plain": [
       "<matplotlib.figure.Figure at 0x7fb985f9af60>"
      ]
     },
     "metadata": {},
     "output_type": "display_data"
    }
   ],
   "source": [
    "tx = trainDat['GROSS SQUARE FEET']\n",
    "ty = trainDat['SALE\\nPRICE']\n",
    "\n",
    "report, plot, obj = DoRegression1D(tx,ty, printAssumptions=False)\n",
    "print(report)\n",
    "plot.show()"
   ]
  },
  {
   "cell_type": "markdown",
   "metadata": {},
   "source": [
    "Not the best let's try the log."
   ]
  },
  {
   "cell_type": "code",
   "execution_count": 11,
   "metadata": {
    "collapsed": false
   },
   "outputs": [
    {
     "name": "stdout",
     "output_type": "stream",
     "text": [
      "\n",
      "Coefficients : -0.8538851310877101 \n",
      "Mean Squared Error : 6.564083249716814\n",
      "Score : 0.19401713828109068\n"
     ]
    },
    {
     "data": {
      "image/png": "[encoded data removed]",
      "text/plain": [
       "<matplotlib.figure.Figure at 0x7fb9863ce978>"
      ]
     },
     "metadata": {},
     "output_type": "display_data"
    }
   ],
   "source": [
    "tx = trainDat['GROSS SQUARE FEET']\n",
    "ty = trainDat['SALE\\nPRICE']\n",
    "\n",
    "tx = tx.apply(np.log)\n",
    "ty = ty.apply(np.log)\n",
    "\n",
    "report, plot, obj = DoRegression1D(tx,ty, printAssumptions=False)\n",
    "print(report)\n",
    "plot.show()"
   ]
  },
  {
   "cell_type": "markdown",
   "metadata": {},
   "source": [
    "Bad fit but the data looks better. Let's focus on apartments."
   ]
  },
  {
   "cell_type": "code",
   "execution_count": 14,
   "metadata": {
    "collapsed": false
   },
   "outputs": [
    {
     "name": "stdout",
     "output_type": "stream",
     "text": [
      "\n",
      "Coefficients : 0.8890029836003339 \n",
      "Mean Squared Error : 4.937511223831305\n",
      "Score : 0.13439425951416484\n",
      "    \n",
      "Check these assumptions:\n",
      "                        \n",
      "Single and multivariable:\n",
      "    Linear relationship\n",
      "    Multivariate normality or parametric errors check with Kolmogorov-Smirnof test or hist plot\n",
      "    No auto-correlation a.k.a history matters like stock prices check with Durbin-Watson's d tests null hypothesis that residuals are not linearly auto-correlated\n",
      "    Homoscedasticity or STD of errors is the same for entire x range\n",
      "    Rule of thumb: N about >20\n",
      "\n",
      "Only for Multivariable:\n",
      "    Little multicollinearity or independent predictors check with correlation matrix of predictors\n",
      "    \n",
      "\n"
     ]
    },
    {
     "data": {
      "image/png": "[encoded data removed]",
      "text/plain": [
       "<matplotlib.figure.Figure at 0x7fb9856d7898>"
      ]
     },
     "metadata": {},
     "output_type": "display_data"
    }
   ],
   "source": [
    "tmpDat = trainDat[(trainDat['COMMERCIAL UNITS']==0)&(trainDat['BUILDING CLASS CATEGORY'].str.contains('APARTMENT'))]\n",
    "\n",
    "tx = tmpDat['GROSS SQUARE FEET']\n",
    "ty = tmpDat['SALE\\nPRICE']\n",
    "\n",
    "tx = tx.apply(np.log)\n",
    "ty = ty.apply(np.log)\n",
    "\n",
    "report, plot, obj = DoRegression1D(tx,ty, printAssumptions=True)\n",
    "print(report)\n",
    "plot.show()\n"
   ]
  },
  {
   "cell_type": "markdown",
   "metadata": {},
   "source": [
    "Let's try the model out on the test set."
   ]
  },
  {
   "cell_type": "code",
   "execution_count": 19,
   "metadata": {
    "collapsed": false
   },
   "outputs": [
    {
     "name": "stdout",
     "output_type": "stream",
     "text": [
      "\n",
      "Coefficients : 0.8890029836003339 \n",
      "Mean Squared Error : 4.20408963277568\n",
      "Score : 0.11083562339741437\n"
     ]
    },
    {
     "data": {
      "image/png": "[encoded data removed]",
      "text/plain": [
       "<matplotlib.figure.Figure at 0x7fb9863c3a20>"
      ]
     },
     "metadata": {},
     "output_type": "display_data"
    }
   ],
   "source": [
    "tmpDat = testDat[(testDat['COMMERCIAL UNITS']==0)&(testDat['BUILDING CLASS CATEGORY'].str.contains('APARTMENT'))]\n",
    "\n",
    "tx = tmpDat['GROSS SQUARE FEET']\n",
    "ty = tmpDat['SALE\\nPRICE']\n",
    "\n",
    "tx = tx.apply(np.log)\n",
    "ty = ty.apply(np.log)\n",
    "\n",
    "report, plot = getRegReport(obj,tx.values.reshape(-1,1),ty.values.reshape(-1,1))\n",
    "print(report)\n",
    "plot.ylabel('log Sale Price')\n",
    "plot.xlabel('log Square Feet')\n",
    "plot.title('Test data')\n",
    "plot.show()"
   ]
  },
  {
   "cell_type": "code",
   "execution_count": 140,
   "metadata": {
    "collapsed": false
   },
   "outputs": [
    {
     "data": {
      "text/plain": [
       "array([[ 0.73066711, -0.2633398 ]])"
      ]
     },
     "execution_count": 140,
     "metadata": {},
     "output_type": "execute_result"
    }
   ],
   "source": [
    "# manual multi variable\n",
    "tmpDat = testDat[(testDat['COMMERCIAL UNITS']==0)&(testDat['BUILDING CLASS CATEGORY'].str.contains('APARTMENT'))]\n",
    "\n",
    "tx = pd.concat([tmpDat['GROSS SQUARE FEET'],tmpDat['YEAR BUILT']],axis=1,keys=['gross','land'])\n",
    "ty = tmpDat['SALE\\nPRICE']\n",
    "\n",
    "tx = tx.apply(np.log)\n",
    "ty = ty.apply(np.log)\n",
    "\n",
    "X = tx.values\n",
    "Y = ty.values.reshape(-1, 1)\n",
    "\n",
    "# create regression obj\n",
    "lrObj = lm.LinearRegression()\n",
    "        \n",
    "# train obj\n",
    "lrObj.fit(X, Y)\n",
    "\n",
    "lrObj.coef_"
   ]
  },
  {
   "cell_type": "code",
   "execution_count": 141,
   "metadata": {
    "collapsed": false
   },
   "outputs": [
    {
     "data": {
      "text/plain": [
       "[\"\\nCoefficients : [ 0.73066711 -0.2633398 ] \\nMean Squared Error : 4.177802805789793\\nScore : 0.11639528367381391\\n    \\nCheck these assumptions:\\n                        \\nSingle and multivariable:\\n    Linear relationship\\n    Multivariate normality or parametric errors check with Kolmogorov-Smirnof test or hist plot\\n    No auto-correlation a.k.a history matters like stock prices check with Durbin-Watson's d tests null hypothesis that residuals are not linearly auto-correlated\\n    Homoscedasticity or STD of errors is the same for entire x range\\n    Rule of thumb: N about >20\\n\\nOnly for Multivariable:\\n    Little multicollinearity or independent predictors check with correlation matrix of predictors\\n    \\n\",\n",
       " <module 'matplotlib.pyplot' from '/home/nick/anaconda3/lib/python3.5/site-packages/matplotlib/pyplot.py'>,\n",
       " LinearRegression(copy_X=True, fit_intercept=True, n_jobs=1, normalize=False)]"
      ]
     },
     "execution_count": 141,
     "metadata": {},
     "output_type": "execute_result"
    },
    {
     "data": {
      "text/plain": [
       "<matplotlib.figure.Figure at 0x7fb9850a6710>"
      ]
     },
     "metadata": {},
     "output_type": "display_data"
    }
   ],
   "source": [
    "# testing function coefficient should be same as above\n",
    "\n",
    "DoRegression(tx, ty, printAssumptions=True, xDim=0)"
   ]
  },
  {
   "cell_type": "code",
   "execution_count": null,
   "metadata": {
    "collapsed": true
   },
   "outputs": [],
   "source": []
  }
 ],
 "metadata": {
  "anaconda-cloud": {},
  "kernelspec": {
   "display_name": "Python [Root]",
   "language": "python",
   "name": "Python [Root]"
  },
  "language_info": {
   "codemirror_mode": {
    "name": "ipython",
    "version": 3
   },
   "file_extension": ".py",
   "mimetype": "text/x-python",
   "name": "python",
   "nbconvert_exporter": "python",
   "pygments_lexer": "ipython3",
   "version": "3.5.2"
  }
 },
 "nbformat": 4,
 "nbformat_minor": 0
}
